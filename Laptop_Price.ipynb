{
  "nbformat": 4,
  "nbformat_minor": 0,
  "metadata": {
    "colab": {
      "provenance": [],
      "authorship_tag": "ABX9TyOa9i1gc5mzezXMolMzKAF6",
      "include_colab_link": true
    },
    "kernelspec": {
      "name": "python3",
      "display_name": "Python 3"
    },
    "language_info": {
      "name": "python"
    }
  },
  "cells": [
    {
      "cell_type": "markdown",
      "metadata": {
        "id": "view-in-github",
        "colab_type": "text"
      },
      "source": [
        "<a href=\"https://colab.research.google.com/github/Ronitbera/laptop-price-/blob/main/Laptop_Price.ipynb\" target=\"_parent\"><img src=\"https://colab.research.google.com/assets/colab-badge.svg\" alt=\"Open In Colab\"/></a>"
      ]
    },
    {
      "cell_type": "markdown",
      "source": [
        "Analyze which brands offer the best value for money or have the highest average prices."
      ],
      "metadata": {
        "id": "CzMJ1UCGGbMp"
      }
    },
    {
      "cell_type": "code",
      "execution_count": 1,
      "metadata": {
        "id": "yvPqBziEF6r6"
      },
      "outputs": [],
      "source": [
        "import pandas as pd\n",
        "import numpy as np\n",
        "import matplotlib.pyplot as plt\n",
        "import seaborn as sns"
      ]
    },
    {
      "cell_type": "code",
      "source": [
        "df=pd.read_csv('/content/laptop_prices.csv',encoding='UTF-8')"
      ],
      "metadata": {
        "id": "qIN3cvMeGonb"
      },
      "execution_count": 2,
      "outputs": []
    },
    {
      "cell_type": "code",
      "source": [
        "print(\"Dataset shape:\", df.shape)"
      ],
      "metadata": {
        "colab": {
          "base_uri": "https://localhost:8080/"
        },
        "id": "FotevD4NGojB",
        "outputId": "c31744b7-e511-45b6-f3c8-20417a469849"
      },
      "execution_count": 3,
      "outputs": [
        {
          "output_type": "stream",
          "name": "stdout",
          "text": [
            "Dataset shape: (1275, 23)\n"
          ]
        }
      ]
    },
    {
      "cell_type": "code",
      "source": [
        "print(\"\\\n",
        "Column data types:\")\n",
        "print(df.dtypes)\n",
        "print(\"\\\n",
        "First few rows:\")\n",
        "print(df.head())"
      ],
      "metadata": {
        "colab": {
          "base_uri": "https://localhost:8080/"
        },
        "id": "P6sJ8vuaGofd",
        "outputId": "74ed0b00-88b4-4c3e-acbe-391ae879d4c6"
      },
      "execution_count": 4,
      "outputs": [
        {
          "output_type": "stream",
          "name": "stdout",
          "text": [
            "Column data types:\n",
            "Company                  object\n",
            "Product                  object\n",
            "TypeName                 object\n",
            "Inches                  float64\n",
            "Ram                       int64\n",
            "OS                       object\n",
            "Weight                  float64\n",
            "Price_euros             float64\n",
            "Screen                   object\n",
            "ScreenW                   int64\n",
            "ScreenH                   int64\n",
            "Touchscreen              object\n",
            "IPSpanel                 object\n",
            "RetinaDisplay            object\n",
            "CPU_company              object\n",
            "CPU_freq                float64\n",
            "CPU_model                object\n",
            "PrimaryStorage            int64\n",
            "SecondaryStorage          int64\n",
            "PrimaryStorageType       object\n",
            "SecondaryStorageType     object\n",
            "GPU_company              object\n",
            "GPU_model                object\n",
            "dtype: object\n",
            "First few rows:\n",
            "  Company      Product   TypeName  Inches  Ram     OS  Weight  Price_euros  \\\n",
            "0   Apple  MacBook Pro  Ultrabook    13.3    8  macOS    1.37      1339.69   \n",
            "1   Apple  Macbook Air  Ultrabook    13.3    8  macOS    1.34       898.94   \n",
            "2      HP       250 G6   Notebook    15.6    8  No OS    1.86       575.00   \n",
            "3   Apple  MacBook Pro  Ultrabook    15.4   16  macOS    1.83      2537.45   \n",
            "4   Apple  MacBook Pro  Ultrabook    13.3    8  macOS    1.37      1803.60   \n",
            "\n",
            "     Screen  ScreenW  ...  RetinaDisplay CPU_company CPU_freq      CPU_model  \\\n",
            "0  Standard     2560  ...            Yes       Intel      2.3        Core i5   \n",
            "1  Standard     1440  ...             No       Intel      1.8        Core i5   \n",
            "2   Full HD     1920  ...             No       Intel      2.5  Core i5 7200U   \n",
            "3  Standard     2880  ...            Yes       Intel      2.7        Core i7   \n",
            "4  Standard     2560  ...            Yes       Intel      3.1        Core i5   \n",
            "\n",
            "  PrimaryStorage  SecondaryStorage PrimaryStorageType  SecondaryStorageType  \\\n",
            "0            128                 0                SSD                    No   \n",
            "1            128                 0      Flash Storage                    No   \n",
            "2            256                 0                SSD                    No   \n",
            "3            512                 0                SSD                    No   \n",
            "4            256                 0                SSD                    No   \n",
            "\n",
            "   GPU_company               GPU_model  \n",
            "0        Intel  Iris Plus Graphics 640  \n",
            "1        Intel        HD Graphics 6000  \n",
            "2        Intel         HD Graphics 620  \n",
            "3          AMD          Radeon Pro 455  \n",
            "4        Intel  Iris Plus Graphics 650  \n",
            "\n",
            "[5 rows x 23 columns]\n"
          ]
        }
      ]
    },
    {
      "cell_type": "code",
      "source": [
        "brand_avg_price = df.groupby('Company')['Price_euros'].mean().sort_values(ascending=False)\n",
        "\n",
        "brand_median_price = df.groupby('Company')['Price_euros'].median().sort_values(ascending=False)\n",
        "\n",
        "print(brand_avg_price.head(10))\n",
        "\n",
        "plt.figure(figsize=(10,6))\n",
        "sns.barplot(x=brand_avg_price.head(10).values, y=brand_avg_price.head(10).index, palette='viridis',hue=False)\n",
        "plt.xlabel('Average Price (Euros)')\n",
        "plt.ylabel('Brand')\n",
        "plt.title('Top 10 Brands by Average Laptop Price')\n",
        "plt.tight_layout()\n",
        "plt.show()\n",
        "\n",
        "print(brand_avg_price.tail(10))"
      ],
      "metadata": {
        "colab": {
          "base_uri": "https://localhost:8080/",
          "height": 1000
        },
        "id": "wRN1422jGocY",
        "outputId": "0949688a-f7b3-4e3c-9284-5fcdf9404fb9"
      },
      "execution_count": 5,
      "outputs": [
        {
          "output_type": "stream",
          "name": "stdout",
          "text": [
            "Company\n",
            "Razer        3346.142857\n",
            "LG           2099.000000\n",
            "MSI          1728.908148\n",
            "Google       1677.666667\n",
            "Microsoft    1612.308333\n",
            "Apple        1564.198571\n",
            "Huawei       1424.000000\n",
            "Samsung      1413.444444\n",
            "Toshiba      1267.812500\n",
            "Dell         1199.225120\n",
            "Name: Price_euros, dtype: float64\n"
          ]
        },
        {
          "output_type": "display_data",
          "data": {
            "text/plain": [
              "<Figure size 1000x600 with 1 Axes>"
            ],
            "image/png": "[encoded data removed]"
          },
          "metadata": {}
        },
        {
          "output_type": "stream",
          "name": "stdout",
          "text": [
            "Company\n",
            "Dell        1199.225120\n",
            "Xiaomi      1133.462500\n",
            "Asus        1123.829737\n",
            "Lenovo      1093.862215\n",
            "HP          1080.314664\n",
            "Fujitsu      729.000000\n",
            "Acer         633.464455\n",
            "Chuwi        314.296667\n",
            "Mediacom     295.000000\n",
            "Vero         217.425000\n",
            "Name: Price_euros, dtype: float64\n"
          ]
        }
      ]
    },
    {
      "cell_type": "code",
      "source": [],
      "metadata": {
        "id": "tmo2lVezGoZq"
      },
      "execution_count": null,
      "outputs": []
    },
    {
      "cell_type": "code",
      "source": [],
      "metadata": {
        "id": "g_K2hCxgGoXD"
      },
      "execution_count": null,
      "outputs": []
    },
    {
      "cell_type": "code",
      "source": [],
      "metadata": {
        "id": "8BM0wXV4GoTU"
      },
      "execution_count": null,
      "outputs": []
    },
    {
      "cell_type": "code",
      "source": [],
      "metadata": {
        "id": "TXP05j1FGoQl"
      },
      "execution_count": null,
      "outputs": []
    },
    {
      "cell_type": "code",
      "source": [],
      "metadata": {
        "id": "v3MTIGSLGoOB"
      },
      "execution_count": null,
      "outputs": []
    },
    {
      "cell_type": "code",
      "source": [],
      "metadata": {
        "id": "n2br2I9eGoKa"
      },
      "execution_count": null,
      "outputs": []
    },
    {
      "cell_type": "code",
      "source": [],
      "metadata": {
        "id": "aQU_6hvCGoHs"
      },
      "execution_count": null,
      "outputs": []
    }
  ]
}